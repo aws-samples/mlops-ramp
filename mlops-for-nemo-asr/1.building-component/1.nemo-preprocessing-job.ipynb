{
 "cells": [
  {
   "cell_type": "markdown",
   "id": "cb60aea8-54a9-4cf8-9cff-5f9b2043036b",
   "metadata": {},
   "source": [
    "# <B> Preprocessing </B>\n",
    "* Container: codna_pytorch_py39"
   ]
  },
  {
   "cell_type": "markdown",
   "id": "6dc511d5-62aa-404b-9fbd-0f1a59446926",
   "metadata": {},
   "source": [
    "## AutoReload"
   ]
  },
  {
   "cell_type": "code",
   "execution_count": 33,
   "id": "51b06f10-985d-4077-b729-e484c814f6b0",
   "metadata": {
    "tags": []
   },
   "outputs": [
    {
     "name": "stdout",
     "output_type": "stream",
     "text": [
      "The autoreload extension is already loaded. To reload it, use:\n",
      "  %reload_ext autoreload\n"
     ]
    }
   ],
   "source": [
    "%load_ext autoreload\n",
    "%autoreload 2"
   ]
  },
  {
   "cell_type": "code",
   "execution_count": 34,
   "id": "0ba446e0-448f-4e07-9d5a-225c16bde8cb",
   "metadata": {
    "tags": []
   },
   "outputs": [],
   "source": [
    "import boto3"
   ]
  },
  {
   "cell_type": "markdown",
   "id": "82fcf66a-7690-4ee7-bc5c-ecab6d254e84",
   "metadata": {},
   "source": [
    "## 1. Processing-job for preprocessing"
   ]
  },
  {
   "cell_type": "code",
   "execution_count": 35,
   "id": "31244e49-1ef6-44b0-aa9a-8c279e3e9093",
   "metadata": {
    "tags": []
   },
   "outputs": [],
   "source": [
    "import os\n",
    "import wget\n",
    "import sagemaker\n",
    "from sagemaker.pytorch.estimator import PyTorch\n",
    "from sagemaker.workflow.execution_variables import ExecutionVariables\n",
    "from sagemaker.processing import ProcessingInput, ProcessingOutput, FrameworkProcessor"
   ]
  },
  {
   "cell_type": "markdown",
   "id": "8d163960-9894-465c-ae15-78e94a590630",
   "metadata": {},
   "source": [
    "## 2. parameter store 설정"
   ]
  },
  {
   "cell_type": "code",
   "execution_count": 36,
   "id": "831caf05-28f8-4dab-b96c-9b8574e064cf",
   "metadata": {
    "tags": []
   },
   "outputs": [],
   "source": [
    "from utils.ssm import parameter_store\n",
    "strRegionName=boto3.Session().region_name\n",
    "pm = parameter_store(strRegionName)\n",
    "prefix = pm.get_params(key=\"PREFIX\")"
   ]
  },
  {
   "cell_type": "markdown",
   "id": "fef44376-e6ac-43c2-b9e4-e18adb65a2ec",
   "metadata": {},
   "source": [
    "* params for processing job"
   ]
  },
  {
   "cell_type": "code",
   "execution_count": 45,
   "id": "4e5789a5-57b6-4a7e-81bc-188e23c28b06",
   "metadata": {
    "tags": []
   },
   "outputs": [
    {
     "name": "stdout",
     "output_type": "stream",
     "text": [
      "instance-type: local\n",
      "image-uri: 419974056037.dkr.ecr.ap-northeast-2.amazonaws.com/nemo-test-training\n",
      "role: arn:aws:iam::419974056037:role/service-role/AmazonSageMaker-ExecutionRole-20221206T163436\n",
      "bucket: sm-nemo-bucket\n",
      "dataset-path: /home/ec2-user/SageMaker/nemo-on-sagemaker/1 building-component/data\n",
      "sagemaker_session: <sagemaker.local.local_session.LocalSession object at 0x7f788bc99be0>\n"
     ]
    }
   ],
   "source": [
    "local_mode = True\n",
    "\n",
    "if local_mode: \n",
    "    instance_type = 'local'\n",
    "    \n",
    "    import os\n",
    "    from sagemaker.local import LocalSession\n",
    "    \n",
    "    sagemaker_session = LocalSession()\n",
    "    data_path = os.path.join(os.getcwd(), \"data\")\n",
    "    \n",
    "else:\n",
    "    instance_type = \"ml.m5.xlarge\" ## \"ml.g4dn.xlarge\"\n",
    "    sagemaker_session = sagemaker.Session()\n",
    "    data_path = pm.get_params(key=prefix + '-S3-DATA-PATH')\n",
    "    \n",
    "print (f\"instance-type: {instance_type}\")\n",
    "print (f\"image-uri: {pm.get_params(key=''.join([prefix, '-IMAGE-URI']))}\")\n",
    "print (f\"role: {pm.get_params(key=prefix + '-SAGEMAKER-ROLE-ARN')}\")\n",
    "print (f\"bucket: {pm.get_params(key=prefix + '-BUCKET')}\")\n",
    "print (f\"dataset-path: {data_path}\")\n",
    "print (f\"sagemaker_session: {sagemaker_session}\")"
   ]
  },
  {
   "cell_type": "markdown",
   "id": "5b1d1a28-03f1-4f00-ad79-5786b15b0d46",
   "metadata": {},
   "source": [
    "* Define processing job"
   ]
  },
  {
   "cell_type": "code",
   "execution_count": 46,
   "id": "f75ec691-0a7c-450f-9c6f-dfa75f44d22c",
   "metadata": {
    "tags": []
   },
   "outputs": [],
   "source": [
    "dataset_processor = FrameworkProcessor(\n",
    "    estimator_cls=PyTorch,\n",
    "    framework_version=None,\n",
    "    image_uri=,\n",
    "    instance_type=,\n",
    "    instance_count=,\n",
    "    role=\n",
    "    base_job_name=\"preprocessing\", # bucket에 보이는 이름 (pipeline으로 묶으면 pipeline에서 정의한 이름으로 bucket에 보임)\n",
    "    sagemaker_session=sagemaker_session\n",
    ")\n",
    "\n",
    "proc_prefix = \"/opt/ml/processing\"\n",
    "\n",
    "output_path = os.path.join(\n",
    "    \"s3://{}\".format(pm.get_params(key=prefix + \"-BUCKET\")),\n",
    "    prefix,\n",
    "    \"preprocessing\",\n",
    "    \"data\"\n",
    ")"
   ]
  },
  {
   "cell_type": "code",
   "execution_count": 47,
   "id": "c1406d98-45eb-4adf-87ca-730d5b74b853",
   "metadata": {
    "tags": []
   },
   "outputs": [
    {
     "data": {
      "text/plain": [
       "'s3://sm-nemo-bucket/nemo-asr/preprocessing/data'"
      ]
     },
     "execution_count": 47,
     "metadata": {},
     "output_type": "execute_result"
    }
   ],
   "source": [
    "output_path"
   ]
  },
  {
   "cell_type": "code",
   "execution_count": 48,
   "id": "8cfa4f86-9bb8-47cb-8ca5-e318c0470836",
   "metadata": {
    "tags": []
   },
   "outputs": [
    {
     "name": "stderr",
     "output_type": "stream",
     "text": [
      "INFO:botocore.credentials:Found credentials from IAM Role: BaseNotebookInstanceEc2InstanceRole\n",
      "INFO:sagemaker.processing:Uploaded /home/ec2-user/SageMaker/nemo-on-sagemaker/1 building-component/code to s3://sagemaker-ap-northeast-2-419974056037/preprocessing-2023-03-21-06-27-10-936/source/sourcedir.tar.gz\n",
      "INFO:sagemaker.processing:runproc.sh uploaded to s3://sagemaker-ap-northeast-2-419974056037/preprocessing-2023-03-21-06-27-10-936/source/runproc.sh\n",
      "INFO:sagemaker:Creating processing-job with name preprocessing-2023-03-21-06-27-10-936\n",
      "INFO:sagemaker.local.local_session:Starting processing job\n",
      "INFO:botocore.credentials:Found credentials from IAM Role: BaseNotebookInstanceEc2InstanceRole\n",
      "INFO:sagemaker.local.image:No AWS credentials found in session but credentials from EC2 Metadata Service are available.\n",
      "INFO:sagemaker.local.image:docker compose file: \n",
      "networks:\n",
      "  sagemaker-local:\n",
      "    name: sagemaker-local\n",
      "services:\n",
      "  algo-1-b8cfb:\n",
      "    container_name: h1yhfflnje-algo-1-b8cfb\n",
      "    entrypoint:\n",
      "    - /bin/bash\n",
      "    - /opt/ml/processing/input/entrypoint/runproc.sh\n",
      "    - --proc_prefix\n",
      "    - /opt/ml/processing\n",
      "    - --train_mount_dir\n",
      "    - /opt/ml/input/data/training/\n",
      "    - --test_mount_dir\n",
      "    - /opt/ml/input/data/testing/\n",
      "    environment: []\n",
      "    image: 419974056037.dkr.ecr.ap-northeast-2.amazonaws.com/nemo-test-training\n",
      "    networks:\n",
      "      sagemaker-local:\n",
      "        aliases:\n",
      "        - algo-1-b8cfb\n",
      "    stdin_open: true\n",
      "    tty: true\n",
      "    volumes:\n",
      "    - /tmp/tmpuvcgd5f9/algo-1-b8cfb/output:/opt/ml/output\n",
      "    - /tmp/tmpuvcgd5f9/algo-1-b8cfb/config:/opt/ml/config\n",
      "    - /tmp/tmppv0tt57h:/opt/ml/processing/input\n",
      "    - /tmp/tmplrzik4os:/opt/ml/processing/input/code/\n",
      "    - /tmp/tmpi3eb8lb0:/opt/ml/processing/input/entrypoint\n",
      "    - /tmp/tmpqsb_xpq2/output/output-data:/opt/ml/processing/output\n",
      "    - /tmp/tmpuvcgd5f9/shared:/opt/ml/shared\n",
      "version: '2.3'\n",
      "\n",
      "INFO:sagemaker.local.image:docker command: docker-compose -f /tmp/tmpuvcgd5f9/docker-compose.yaml up --build --abort-on-container-exit\n"
     ]
    },
    {
     "name": "stdout",
     "output_type": "stream",
     "text": [
      "Creating h1yhfflnje-algo-1-b8cfb ... \n",
      "Creating h1yhfflnje-algo-1-b8cfb ... done\n",
      "Attaching to h1yhfflnje-algo-1-b8cfb\n",
      "\u001b[36mh1yhfflnje-algo-1-b8cfb |\u001b[0m Received arguments Namespace(proc_prefix='/opt/ml/processing', train_mount_dir='/opt/ml/input/data/training/', test_mount_dir='/opt/ml/input/data/testing/')\n",
      "\u001b[36mh1yhfflnje-algo-1-b8cfb |\u001b[0m Converting .sph to .wav...\n",
      "\u001b[36mh1yhfflnje-algo-1-b8cfb |\u001b[0m Finished conversion.\n",
      "\u001b[36mh1yhfflnje-algo-1-b8cfb |\u001b[0m ******\n",
      "\u001b[36mh1yhfflnje-algo-1-b8cfb |\u001b[0m ******\n",
      "\u001b[36mh1yhfflnje-algo-1-b8cfb |\u001b[0m Training manifest created.\n",
      "\u001b[36mh1yhfflnje-algo-1-b8cfb |\u001b[0m Test manifest created.\n",
      "\u001b[36mh1yhfflnje-algo-1-b8cfb |\u001b[0m ***Done***\n",
      "\u001b[36mh1yhfflnje-algo-1-b8cfb |\u001b[0m data_dir ['code', 'entrypoint', 'an4']\n",
      "\u001b[36mh1yhfflnje-algo-1-b8cfb |\u001b[0m self.output_dir ['an4']\n",
      "\u001b[36mh1yhfflnje-algo-1-b8cfb exited with code 0\n",
      "\u001b[0mAborting on container exit...\n"
     ]
    },
    {
     "name": "stderr",
     "output_type": "stream",
     "text": [
      "WARNING:sagemaker.local.utils:Failed to delete: /tmp/tmpqsb_xpq2/output/output-data Please remove it manually.\n",
      "WARNING:sagemaker.local.image:Failed to delete: /tmp/tmpqsb_xpq2 Please remove it manually.\n"
     ]
    },
    {
     "name": "stdout",
     "output_type": "stream",
     "text": [
      "===== Job Complete =====\n"
     ]
    }
   ],
   "source": [
    "dataset_processor.run(\n",
    "    code=\n",
    "    source_dir=\n",
    "    inputs=[\n",
    "        ProcessingInput(\n",
    "            input_name=\"input-data\",\n",
    "            source=,\n",
    "            destination=\n",
    "        ),\n",
    "    ],\n",
    "    outputs=[       \n",
    "        ProcessingOutput(\n",
    "            output_name=\"output-data\",\n",
    "            source=,\n",
    "            destination=\n",
    "        ),\n",
    "    ],\n",
    "    arguments=[\"--proc_prefix\", proc_prefix, \\\n",
    "               \"--train_mount_dir\", \"/opt/ml/input/data/training/\", \\\n",
    "               \"--test_mount_dir\", \"/opt/ml/input/data/testing/\"],\n",
    ")"
   ]
  },
  {
   "cell_type": "code",
   "execution_count": 51,
   "id": "2b39af55-7e48-4730-aa54-01350c162084",
   "metadata": {
    "tags": []
   },
   "outputs": [
    {
     "data": {
      "text/plain": [
       "'s3://sm-nemo-bucket/nemo-asr/preprocessing/data'"
      ]
     },
     "execution_count": 51,
     "metadata": {},
     "output_type": "execute_result"
    }
   ],
   "source": [
    "!aws s3 sync $output_path ./data/preprocessing --quiet\n",
    "output_path"
   ]
  },
  {
   "cell_type": "markdown",
   "id": "d86fd8d5-b842-47a1-aa76-fa3043557afc",
   "metadata": {},
   "source": [
    "## 3. parameter store에 Processing output 추가"
   ]
  },
  {
   "cell_type": "code",
   "execution_count": 50,
   "id": "e3328b4c-e16d-4042-aa81-d2ac611b8efe",
   "metadata": {
    "tags": []
   },
   "outputs": [
    {
     "data": {
      "text/plain": [
       "'Store suceess'"
      ]
     },
     "execution_count": 50,
     "metadata": {},
     "output_type": "execute_result"
    }
   ],
   "source": [
    "pm.put_params(key=\"-\".join([prefix, \"PREP-DATA-PATH\"]), value=output_path, overwrite=True)"
   ]
  },
  {
   "cell_type": "code",
   "execution_count": null,
   "id": "bd3268c2-50c1-4462-bb3c-f149a17886fc",
   "metadata": {},
   "outputs": [],
   "source": []
  }
 ],
 "metadata": {
  "kernelspec": {
   "display_name": "conda_pytorch_p39",
   "language": "python",
   "name": "conda_pytorch_p39"
  },
  "language_info": {
   "codemirror_mode": {
    "name": "ipython",
    "version": 3
   },
   "file_extension": ".py",
   "mimetype": "text/x-python",
   "name": "python",
   "nbconvert_exporter": "python",
   "pygments_lexer": "ipython3",
   "version": "3.9.15"
  }
 },
 "nbformat": 4,
 "nbformat_minor": 5
}
