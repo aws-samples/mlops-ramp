{
 "cells": [
  {
   "cell_type": "markdown",
   "id": "8f3dd71b-f63a-4106-b323-67be004b482e",
   "metadata": {},
   "source": [
    "# <B> Setup for Nvidai NeMo with SageMaker </B>\n",
    "* Container: codna_python3"
   ]
  },
  {
   "cell_type": "markdown",
   "id": "aaeaff49-a119-4a0c-b48a-f66ab721c458",
   "metadata": {},
   "source": [
    "## AutoReload"
   ]
  },
  {
   "cell_type": "code",
   "execution_count": null,
   "id": "9f8f8f99-aaa0-42f9-8695-c8bd1884504c",
   "metadata": {
    "tags": []
   },
   "outputs": [],
   "source": [
    "%load_ext autoreload\n",
    "%autoreload 2"
   ]
  },
  {
   "cell_type": "markdown",
   "id": "78872034-4b66-45e4-983f-726a94459873",
   "metadata": {
    "tags": []
   },
   "source": [
    "## 0. Install packages"
   ]
  },
  {
   "cell_type": "code",
   "execution_count": null,
   "id": "ee290bd6-1b9b-44d5-8746-14412ea3ca96",
   "metadata": {
    "tags": []
   },
   "outputs": [],
   "source": [
    "install_needed = True  # should only be True once\n",
    "# install_needed = False"
   ]
  },
  {
   "cell_type": "code",
   "execution_count": null,
   "id": "6594574f-22e6-4237-a573-5598e0246727",
   "metadata": {
    "tags": []
   },
   "outputs": [],
   "source": [
    "%%bash\n",
    "#!/bin/bash\n",
    "\n",
    "DAEMON_PATH=\"/etc/docker\"\n",
    "MEMORY_SIZE=10G\n",
    "\n",
    "FLAG=$(cat $DAEMON_PATH/daemon.json | jq 'has(\"data-root\")')\n",
    "# echo $FLAG\n",
    "\n",
    "if [ \"$FLAG\" == true ]; then\n",
    "    echo \"Already revised\"\n",
    "else\n",
    "    echo \"Add data-root and default-shm-size=$MEMORY_SIZE\"\n",
    "    sudo cp $DAEMON_PATH/daemon.json $DAEMON_PATH/daemon.json.bak\n",
    "    sudo cat $DAEMON_PATH/daemon.json.bak | jq '. += {\"data-root\":\"/home/ec2-user/SageMaker/.container/docker\",\"default-shm-size\":\"'$MEMORY_SIZE'\"}' | sudo tee $DAEMON_PATH/daemon.json > /dev/null\n",
    "    sudo service docker restart\n",
    "    echo \"Docker Restart\"\n",
    "fi"
   ]
  },
  {
   "cell_type": "code",
   "execution_count": null,
   "id": "f21840e5-9ecf-4e9c-9736-d2174cd413e2",
   "metadata": {
    "tags": []
   },
   "outputs": [],
   "source": [
    "import sys\n",
    "import IPython\n",
    "\n",
    "if install_needed:\n",
    "    print(\"installing deps and restarting kernel\")\n",
    "    !{sys.executable} -m pip install -U pip\n",
    "    !{sys.executable} -m pip install -U smdebug sagemaker-experiments\n",
    "    !{sys.executable} -m pip install -U sagemaker\n",
    "    !{sys.executable} -m pip install -U datasets transformers\n",
    "    !{sys.executable} -m pip install -U wget omegaconf text-unidecode sox\n",
    "    \n",
    "    ## Install NeMo\n",
    "    !sudo yum install sox -y\n",
    "    !sudo yum install libsndfile\n",
    "    !pip install --upgrade --force-reinstall llvmlite\n",
    "    BRANCH = 'main'\n",
    "    !{sys.executable} -m pip install git+https://github.com/NVIDIA/NeMo.git@$BRANCH#egg=nemo_toolkit[all]\n",
    "    \n",
    "    IPython.Application.instance().kernel.do_shutdown(True)"
   ]
  },
  {
   "cell_type": "markdown",
   "id": "9d235cc4-356c-43e0-99ca-fea913797c99",
   "metadata": {
    "tags": []
   },
   "source": [
    "## 1. Set roles"
   ]
  },
  {
   "cell_type": "code",
   "execution_count": null,
   "id": "1f3a2019-2337-4b48-9bd8-f577ac13daed",
   "metadata": {
    "tags": []
   },
   "outputs": [],
   "source": [
    "from sagemaker import get_execution_role"
   ]
  },
  {
   "cell_type": "code",
   "execution_count": null,
   "id": "3be71d18-b4b7-4196-abf1-1922f3013c4e",
   "metadata": {
    "tags": []
   },
   "outputs": [],
   "source": [
    "strSageMakerRoleName = get_execution_role().rsplit('/', 1)[-1]\n",
    "print (f\"SageMaker Execution Role Name: {strSageMakerRoleName}\")"
   ]
  },
  {
   "cell_type": "markdown",
   "id": "8acda191-5a24-4904-b637-92e9bfd580e2",
   "metadata": {
    "tags": []
   },
   "source": [
    "## 1.1 Attach IAM polich to sagemaker execution role (<b>with console</b>)\n",
    "> **EC2ContainerRegistry**: \"arn:aws:iam::aws:policy/AmazonEC2ContainerRegistryFullAccess\" <BR>\n",
    "> **S3**: \"arn:aws:iam::aws:policy/AmazonS3FullAccess\""
   ]
  },
  {
   "cell_type": "markdown",
   "id": "87fe7a4b-03e1-4422-8bd5-62d30e0a419f",
   "metadata": {},
   "source": [
    "## 2. Set default parameters"
   ]
  },
  {
   "cell_type": "code",
   "execution_count": null,
   "id": "e5e8ad58-6a1e-41b4-88e5-aec263ef935e",
   "metadata": {
    "tags": []
   },
   "outputs": [],
   "source": [
    "import boto3\n",
    "import sagemaker"
   ]
  },
  {
   "cell_type": "markdown",
   "id": "92d651c6-93ad-463b-905a-d9978bd748a7",
   "metadata": {},
   "source": [
    "### Bucket / Prefix 설정"
   ]
  },
  {
   "cell_type": "code",
   "execution_count": null,
   "id": "659a6734-542a-4f79-b4bb-726408709308",
   "metadata": {
    "tags": []
   },
   "outputs": [],
   "source": [
    "strRegionName = boto3.Session().region_name\n",
    "strAccountId = boto3.client(\"sts\").get_caller_identity().get(\"Account\")\n",
    "bucket_name = ' ' # <-- 사용할 bucket 명을 추가해 주세요. ex) sagemaker-us-east-1-123456789123, sm-nemo-bucket\n",
    "prefix = ' ' ## <-- 작업할 prefix 명을 추가해 주세요. ex) nemo-test, nemo-asr"
   ]
  },
  {
   "cell_type": "markdown",
   "id": "c82a79d6-71b2-48fb-8c80-41a9549b36c5",
   "metadata": {},
   "source": [
    "## 3. Create training custom docker image"
   ]
  },
  {
   "cell_type": "markdown",
   "id": "84b2409b-8c8f-420f-bf7d-0ca95880b92f",
   "metadata": {},
   "source": [
    "* docker build"
   ]
  },
  {
   "cell_type": "code",
   "execution_count": null,
   "id": "e2c97bbe-918a-454e-a444-0a03bc5c48b1",
   "metadata": {
    "tags": []
   },
   "outputs": [],
   "source": [
    "!pygmentize custom-docker/Dockerfile"
   ]
  },
  {
   "cell_type": "markdown",
   "id": "9816ab13-8047-4f06-9fdc-97999a974bd1",
   "metadata": {},
   "source": [
    "* Base 이미지의 region, account-id 확인 후 아래 파라미터 입력"
   ]
  },
  {
   "cell_type": "markdown",
   "id": "c8a73b5e-1775-41f2-bf79-174cebab1778",
   "metadata": {},
   "source": [
    "### 1) AWS CLI 를 이용한 방식"
   ]
  },
  {
   "cell_type": "code",
   "execution_count": null,
   "id": "eb1c8b5e-f0d6-4194-a8aa-6328b68c1280",
   "metadata": {
    "tags": []
   },
   "outputs": [],
   "source": [
    "%%bash\n",
    "strRepositoryName=\"nemo-test-training\"  ## <-- 원하는 docker repostory 이름을 추가\n",
    "strDockerDir=\"./custom-docker/\"\n",
    "strTag=\"latest\"\n",
    "\n",
    "cd ${strDockerDir}\n",
    "echo $(pwd)\n",
    "container_name=${strRepositoryName}\n",
    "\n",
    "account=$(aws sts get-caller-identity --query Account --output text)\n",
    "\n",
    "# Get the region defined in the current configuration (default to us-west-2 if none defined)\n",
    "region=$(aws configure get region)\n",
    "# region=${region:-us-west-2}\n",
    "\n",
    "fullname=\"${account}.dkr.ecr.${region}.amazonaws.com/${container_name}:${strTag}\"\n",
    "\n",
    "# If the repository doesn't exist in ECR, create it.\n",
    "aws ecr describe-repositories --repository-names \"${container_name}\" > /dev/null 2>&1\n",
    "if [ $? -ne 0 ]\n",
    "then\n",
    "    aws ecr create-repository --repository-name \"${container_name}\" > /dev/null\n",
    "fi\n",
    "\n",
    "# # Get the login command from ECR and execute it directly\n",
    "# $(aws ecr get-login-password --region us-west-2 | docker login --username AWS --password-stdin \"763104351884.dkr.ecr.us-west-2.amazonaws.com\")\n",
    "\n",
    "# Build the docker image locally with the image name and then push it to ECR\n",
    "# with the full name.\n",
    "docker build -f Dockerfile -t ${fullname} .\n",
    "# docker tag ${container_name} ${fullname}\n",
    "\n",
    "# Get the login command from ECR and execute it directly\n",
    "$(aws ecr get-login --region ${region} --no-include-email)\n",
    "docker push ${fullname}\n",
    "echo ${fullname}"
   ]
  },
  {
   "cell_type": "code",
   "execution_count": null,
   "id": "0a80bf77-8063-476d-b54c-8ddf82f88994",
   "metadata": {
    "tags": []
   },
   "outputs": [],
   "source": [
    "strEcrRepositoryUri = ' '#' '  ## <-- 생성된 ECR의 URI를 넣어주세요.. ex) 123456789123.dkr.ecr.us-west-2.amazonaws.com/nemo-test:latest"
   ]
  },
  {
   "cell_type": "markdown",
   "id": "f59e141b-07af-421e-a05d-bc6991dce9df",
   "metadata": {
    "tags": []
   },
   "source": [
    "### 2) AWS BOTO3 SDK를 이용한 방식"
   ]
  },
  {
   "cell_type": "code",
   "execution_count": null,
   "id": "6bf0f03e-a0fe-44af-ac74-c9a67fd1bbc0",
   "metadata": {
    "tags": []
   },
   "outputs": [],
   "source": [
    "from utils.ecr import ecr_handler\n",
    "ecr = ecr_handler()"
   ]
  },
  {
   "cell_type": "code",
   "execution_count": null,
   "id": "1c68ef98-9669-4ea8-8e39-7717d0ffa831",
   "metadata": {
    "tags": []
   },
   "outputs": [],
   "source": [
    "strRepositoryName=\"nemo-test-training\"  ## <-- 원하는 docker repostory 이름을 추가\n",
    "strRepositoryName = strRepositoryName.lower()\n",
    "strDockerDir = \"./custom-docker/\"\n",
    "strDockerFile = \"Dockerfile\"\n",
    "strTag = \"latest\""
   ]
  },
  {
   "cell_type": "code",
   "execution_count": null,
   "id": "a4bf0924-52d8-457c-9edb-aff333850c1a",
   "metadata": {
    "tags": []
   },
   "outputs": [],
   "source": [
    "ecr.build_docker(strDockerDir, strDockerFile, strRepositoryName, strRegionName=\"us-west-2\", strAccountId=\"763104351884\")"
   ]
  },
  {
   "cell_type": "markdown",
   "id": "9e1d1a7a-6677-462a-87b3-6ba628884276",
   "metadata": {},
   "source": [
    "* Push the image to ECR"
   ]
  },
  {
   "cell_type": "code",
   "execution_count": null,
   "id": "09fa8f56-7ac2-440d-86f0-6e6a07dc71a4",
   "metadata": {
    "tags": []
   },
   "outputs": [],
   "source": [
    "strEcrRepositoryUri = ecr.register_image_to_ecr(strRegionName, strAccountId, strRepositoryName, strTag)"
   ]
  },
  {
   "cell_type": "markdown",
   "id": "e1b0385b-d1a6-4281-87fa-261cbf5acbbd",
   "metadata": {},
   "source": [
    "* Save image-uri to parameter store"
   ]
  },
  {
   "cell_type": "markdown",
   "id": "2fbcd0ad-384a-4c24-922d-a17213ec1dba",
   "metadata": {},
   "source": [
    "## 4. Create inference custom docker image"
   ]
  },
  {
   "cell_type": "markdown",
   "id": "9a80f82b-edcd-4f86-8211-f79fbd5d4adf",
   "metadata": {},
   "source": [
    "* docker build"
   ]
  },
  {
   "cell_type": "code",
   "execution_count": null,
   "id": "886a0a4b-0601-4674-a575-88c5051989ab",
   "metadata": {
    "tags": []
   },
   "outputs": [],
   "source": [
    "!pygmentize custom-docker/Dockerfile.inf"
   ]
  },
  {
   "cell_type": "markdown",
   "id": "2a45013c-144a-4918-b154-e9cd7425506a",
   "metadata": {},
   "source": [
    "### 1) AWS CLI 를 이용한 방식"
   ]
  },
  {
   "cell_type": "code",
   "execution_count": null,
   "id": "1eed522b-5d65-4a69-9502-298504d5b7c5",
   "metadata": {
    "tags": []
   },
   "outputs": [],
   "source": [
    "%%bash\n",
    "strRepositoryName=\"nemo-test-inference\"\n",
    "strDockerDir=\"./custom-docker/\"\n",
    "strTag=\"latest\"\n",
    "\n",
    "cd ${strDockerDir}\n",
    "echo $(pwd)\n",
    "container_name=${strRepositoryName}\n",
    "\n",
    "account=$(aws sts get-caller-identity --query Account --output text)\n",
    "\n",
    "# Get the region defined in the current configuration (default to us-west-2 if none defined)\n",
    "region=$(aws configure get region)\n",
    "# region=${region:-us-west-2}\n",
    "\n",
    "fullname=\"${account}.dkr.ecr.${region}.amazonaws.com/${container_name}:${strTag}\"\n",
    "\n",
    "# If the repository doesn't exist in ECR, create it.\n",
    "aws ecr describe-repositories --repository-names \"${container_name}\" > /dev/null 2>&1\n",
    "if [ $? -ne 0 ]\n",
    "then\n",
    "    aws ecr create-repository --repository-name \"${container_name}\" > /dev/null\n",
    "fi\n",
    "\n",
    "# # Get the login command from ECR and execute it directly\n",
    "# $(aws ecr get-login-password --region us-west-2 | docker login --username AWS --password-stdin \"763104351884.dkr.ecr.us-west-2.amazonaws.com\")\n",
    "\n",
    "# Build the docker image locally with the image name and then push it to ECR\n",
    "# with the full name.\n",
    "docker build -f Dockerfile.inf -t ${fullname} .\n",
    "# docker tag ${container_name} ${fullname}\n",
    "\n",
    "# Get the login command from ECR and execute it directly\n",
    "$(aws ecr get-login --region ${region} --no-include-email)\n",
    "docker push ${fullname}\n",
    "echo ${fullname}"
   ]
  },
  {
   "cell_type": "code",
   "execution_count": null,
   "id": "9766980f-4a8d-48f8-986f-5f75ada29c08",
   "metadata": {
    "tags": []
   },
   "outputs": [],
   "source": [
    "strInfEcrRepositoryUri = ' '  ## <-- 생성된 ECR의 URI를 넣어주세요.. ex) 123456789123.dkr.ecr.us-west-2.amazonaws.com/nemo-test:latest\n"
   ]
  },
  {
   "cell_type": "markdown",
   "id": "e4af3f7e-90a4-4923-b44f-6af2efe8fd8b",
   "metadata": {},
   "source": [
    "### 2) AWS BOTO3 SDK를 이용한 방식"
   ]
  },
  {
   "cell_type": "code",
   "execution_count": null,
   "id": "1e8bf58e-7ad3-4827-acdc-ec64f90c8b46",
   "metadata": {
    "tags": []
   },
   "outputs": [],
   "source": [
    "from utils.ecr import ecr_handler\n",
    "ecr = ecr_handler()"
   ]
  },
  {
   "cell_type": "code",
   "execution_count": null,
   "id": "897f4ee5-8440-426d-83ff-af5ef558bda8",
   "metadata": {
    "tags": []
   },
   "outputs": [],
   "source": [
    "strInfRepositoryName=\"nemo-test-inference\"  ## <-- 원하는 docker repostory 이름을 추가\n",
    "strInfRepositoryName = strInfRepositoryName.lower()\n",
    "strDockerFile = \"Dockerfile.inf\"\n",
    "strDockerDir = \"./custom-docker/\"\n",
    "strTag = \"latest\""
   ]
  },
  {
   "cell_type": "code",
   "execution_count": null,
   "id": "2e6a9c7a-67dc-4951-8d7b-fa261bdcdb22",
   "metadata": {
    "tags": []
   },
   "outputs": [],
   "source": [
    "ecr.build_docker(strDockerDir, strDockerFile, strInfRepositoryName, strRegionName=\"us-west-2\", strAccountId=\"763104351884\")"
   ]
  },
  {
   "cell_type": "code",
   "execution_count": null,
   "id": "d3a29604-f58b-4106-a23d-6d36c30727f4",
   "metadata": {
    "tags": []
   },
   "outputs": [],
   "source": [
    "strInfEcrRepositoryUri = ecr.register_image_to_ecr(strRegionName, strAccountId, strInfRepositoryName, strTag)"
   ]
  },
  {
   "cell_type": "markdown",
   "id": "66618f51-efdf-4336-8712-acf2201f5aab",
   "metadata": {},
   "source": [
    "## 5. Download & Upload dataset"
   ]
  },
  {
   "cell_type": "code",
   "execution_count": null,
   "id": "693ac722-d6d3-4ae0-8787-27dd7a3a11cc",
   "metadata": {
    "tags": []
   },
   "outputs": [],
   "source": [
    "import os\n",
    "import wget"
   ]
  },
  {
   "cell_type": "code",
   "execution_count": null,
   "id": "b3b1eb5b-ba2f-40e1-824c-846374d53bad",
   "metadata": {
    "tags": []
   },
   "outputs": [],
   "source": [
    "data_dir = \"./data\""
   ]
  },
  {
   "cell_type": "code",
   "execution_count": null,
   "id": "406951c5-4597-49f4-9ced-db4aeef0512d",
   "metadata": {
    "tags": []
   },
   "outputs": [],
   "source": [
    "print(\"******\")\n",
    "os.makedirs(data_dir, exist_ok=True)\n",
    "if not os.path.exists(data_dir + '/an4_sphere.tar.gz'):\n",
    "    an4_url = 'https://dldata-public.s3.us-east-2.amazonaws.com/an4_sphere.tar.gz'\n",
    "    an4_path = wget.download(an4_url, data_dir)\n",
    "    print(f\"Dataset downloaded at: {an4_path}\")\n",
    "else:\n",
    "    print(\"Tarfile already exists.\")\n",
    "    an4_path = data_dir + '/an4_sphere.tar.gz'"
   ]
  },
  {
   "cell_type": "code",
   "execution_count": null,
   "id": "0aaac4f9-5a97-4447-91cb-5770cc4cd88f",
   "metadata": {
    "tags": []
   },
   "outputs": [],
   "source": [
    "strRepositoryName=\"nemo-test-inference\"  ## <-- 원하는 docker repostory 이름을 추가\n",
    "strRepositoryName = strRepositoryName.lower()\n",
    "strDockerDir = \"./custom-docker/\"\n",
    "strTag = \"latest\""
   ]
  },
  {
   "cell_type": "markdown",
   "id": "3ac1ad94-a3d0-49a2-b16a-35887875ed54",
   "metadata": {},
   "source": [
    "* updoad data to s3"
   ]
  },
  {
   "cell_type": "markdown",
   "id": "1c5f28dd-98a4-45f8-87f2-21eb1f942be7",
   "metadata": {},
   "source": [
    "### 1) AWS CLI 를 이용한 방식"
   ]
  },
  {
   "cell_type": "code",
   "execution_count": null,
   "id": "56651221-771b-4350-8b21-bd316235ae44",
   "metadata": {
    "tags": []
   },
   "outputs": [],
   "source": [
    "!aws s3 sync $data_dir s3://$bucket_name/$prefix/data --quiet"
   ]
  },
  {
   "cell_type": "markdown",
   "id": "651df427-7e23-4861-906f-4f1536c4cc90",
   "metadata": {},
   "source": [
    "### 2) AWS BOTO3 SDK를 이용한 방식"
   ]
  },
  {
   "cell_type": "code",
   "execution_count": null,
   "id": "d433d60e-f53f-403e-bf99-1bc52e6e5456",
   "metadata": {
    "tags": []
   },
   "outputs": [],
   "source": [
    "from utils.s3 import s3_handler"
   ]
  },
  {
   "cell_type": "code",
   "execution_count": null,
   "id": "35d1201e-0f10-48c8-9a20-83f4ff20efde",
   "metadata": {
    "tags": []
   },
   "outputs": [],
   "source": [
    "s3 = s3_handler()"
   ]
  },
  {
   "cell_type": "code",
   "execution_count": null,
   "id": "95e9f4ec-f3ad-4a63-aa4a-425615aea2c8",
   "metadata": {
    "tags": []
   },
   "outputs": [],
   "source": [
    "source_dir, target_bucket, target_dir = data_dir, pm.get_params(key=prefix+\"-BUCKET\"), prefix+\"/data\"\n",
    "s3.upload_dir(source_dir, target_bucket, target_dir)"
   ]
  },
  {
   "cell_type": "markdown",
   "id": "a56442a3-3241-4d78-92d6-67cb053f8b04",
   "metadata": {},
   "source": [
    "## 6. Upload Pretrained model"
   ]
  },
  {
   "cell_type": "code",
   "execution_count": null,
   "id": "4c7176b3-28d9-49f7-9a6b-bc36128022a5",
   "metadata": {
    "tags": []
   },
   "outputs": [],
   "source": [
    "pretrained = os.getcwd() + '/pretrained/CTC.nemo'\n",
    "\n",
    "pretrained_s3uri = os.path.join(\n",
    "    \"s3://{}\".format(bucket_name),\n",
    "    prefix,\n",
    "    \"pretrained\",\n",
    ")\n",
    "\n",
    "!aws s3 sync pretrained $pretrained_s3uri"
   ]
  },
  {
   "cell_type": "markdown",
   "id": "6d5f0673-538d-4e72-94ca-663177ff12ae",
   "metadata": {},
   "source": [
    "## 7. CodeCommit 생성\n",
    "- Attach IAM polich to sagemaker execution role (<b>with console</b>)\n",
    "> **CodeCommit**: \"arn:aws:iam::aws:policy/AWSCodeCommitFullAccess\"<BR>\n",
    "> **SecretsManager**: \"arn:aws:iam::aws:policy/SecretsManagerReadWrite\"<BR>"
   ]
  },
  {
   "cell_type": "markdown",
   "id": "d9fca091-a616-41c1-a522-7327720ec74e",
   "metadata": {},
   "source": [
    "### 5.1 CodeCommit 관련 Credentials 생성 및 Secret Manager에 저장하기\n",
    "- CodeCommit Credentials"
   ]
  },
  {
   "cell_type": "code",
   "execution_count": null,
   "id": "3d570c6e-58f8-4749-be70-0687ee606a3a",
   "metadata": {
    "tags": []
   },
   "outputs": [],
   "source": [
    "user_name = '   ' ## ==> IAM에서 사용자 아이디 확인합니다.\n",
    "codecommit_cred = 'codecommit-cred-'+user_name\n",
    "codecommit_cred"
   ]
  },
  {
   "cell_type": "code",
   "execution_count": null,
   "id": "aa00bbd2-bf62-46d8-9e20-75f2a0f8910b",
   "metadata": {
    "tags": []
   },
   "outputs": [],
   "source": [
    "iam_client = boto3.client('iam')"
   ]
  },
  {
   "cell_type": "code",
   "execution_count": null,
   "id": "6435b225-db6a-4b71-8fc2-4e3bc52b788e",
   "metadata": {
    "tags": []
   },
   "outputs": [],
   "source": [
    "try:\n",
    "    response = iam_client.list_service_specific_credentials(\n",
    "        UserName=user_name,\n",
    "        ServiceName='codecommit.amazonaws.com'\n",
    "    )\n",
    "    if len(response['ServiceSpecificCredentials']) > 0:\n",
    "        response = iam_client.delete_service_specific_credential(\n",
    "            UserName=user_name,\n",
    "            ServiceSpecificCredentialId=response['ServiceSpecificCredentials'][-1]['ServiceSpecificCredentialId']\n",
    "        )\n",
    "except:\n",
    "    print(\"Create new codecommit crendentials\")\n",
    "    pass\n",
    "finally:\n",
    "    response = iam_client.create_service_specific_credential(\n",
    "        UserName=user_name,\n",
    "        ServiceName='codecommit.amazonaws.com'\n",
    "    )\n",
    "    ServiceUserName = response['ServiceSpecificCredential']['ServiceUserName']\n",
    "    ServicePassword = response['ServiceSpecificCredential']['ServicePassword']\n",
    "print(f\"ServiceUserName : {ServiceUserName} \\nServicePassword : {ServicePassword}\")"
   ]
  },
  {
   "cell_type": "code",
   "execution_count": null,
   "id": "745a1773-919a-4074-acc5-28ca6a546a08",
   "metadata": {
    "tags": []
   },
   "outputs": [],
   "source": [
    "code_repository_name = 'nemo-code' ## ==> 사용할 code repository 폴더 명을 넣습니다. ex) model_code\n",
    "local_code_dir = './code' ## ==> 생성한 local의 code repository 폴더 명을 넣습니다. ex) code"
   ]
  },
  {
   "cell_type": "code",
   "execution_count": null,
   "id": "9f19a2b9-6e38-4e0e-ac44-b0b4de22a460",
   "metadata": {
    "tags": []
   },
   "outputs": [],
   "source": [
    "codecommit = boto3.client('codecommit')\n",
    "\n",
    "try:\n",
    "    response = codecommit.create_repository(\n",
    "        repositoryName=code_repository_name,\n",
    "        repositoryDescription='Data Scientists share their training code using this Repository'\n",
    "    )\n",
    "except:\n",
    "    \n",
    "    print(\"Repository already exists\")\n",
    "    response = codecommit.get_repository(\n",
    "        repositoryName=code_repository_name\n",
    "    )"
   ]
  },
  {
   "cell_type": "code",
   "execution_count": null,
   "id": "ac4c1e77-f894-4e7c-81ab-9054c7515d61",
   "metadata": {
    "tags": []
   },
   "outputs": [],
   "source": [
    "codecommit_repo = response['repositoryMetadata']['cloneUrlHttp']\n",
    "codecommit_repo"
   ]
  },
  {
   "cell_type": "code",
   "execution_count": null,
   "id": "5e769023-46fc-482a-948f-27f556bf2805",
   "metadata": {
    "tags": []
   },
   "outputs": [],
   "source": [
    "!rm -rf .git/"
   ]
  },
  {
   "cell_type": "code",
   "execution_count": null,
   "id": "7ab59dbf-196b-4a32-bd49-c003342c715d",
   "metadata": {},
   "outputs": [],
   "source": [
    "!git init\n",
    "!git remote add repo_codecommit $codecommit_repo\n",
    "!git checkout -b main\n",
    "!git add $local_code_dir\n",
    "!git commit -m \"code-update\"\n",
    "!git push --set-upstream repo_codecommit main"
   ]
  },
  {
   "cell_type": "markdown",
   "id": "79d1cc04-a7d2-47a2-bdeb-0357a67aa775",
   "metadata": {},
   "source": [
    "## 6. [Optional] AWS Systems Manager Parameter Store 를 이용한 파라미터 저장/활용\n",
    "- [AWS Systems Manager Parameter Store](https://docs.aws.amazon.com/systems-manager/latest/userguide/systems-manager-parameter-store.html)\n",
    "- Attach IAM polich to sagemaker execution role (<b>with console</b>)\n",
    "> **SSM**: \"arn:aws:iam::aws:policy/AmazonSSMFullAccess\"<BR>"
   ]
  },
  {
   "cell_type": "code",
   "execution_count": null,
   "id": "ef82d683-4008-4337-b756-fed86c4d6fc4",
   "metadata": {
    "tags": []
   },
   "outputs": [],
   "source": [
    "from utils.ssm import parameter_store"
   ]
  },
  {
   "cell_type": "code",
   "execution_count": null,
   "id": "8cbafaa9-11bb-4207-ac4d-912e02f64709",
   "metadata": {
    "tags": []
   },
   "outputs": [],
   "source": [
    "pm = parameter_store(strRegionName)"
   ]
  },
  {
   "cell_type": "code",
   "execution_count": null,
   "id": "0d074104-5c46-489b-982a-4e3801697757",
   "metadata": {
    "tags": []
   },
   "outputs": [],
   "source": [
    "pm.put_params(key=\"PREFIX\", value=prefix, overwrite=True)\n",
    "pm.put_params(key=\"-\".join([prefix, \"REGION\"]), value=strRegionName, overwrite=True)\n",
    "pm.put_params(key=\"-\".join([prefix, \"BUCKET\"]), value=bucket_name, overwrite=True)\n",
    "pm.put_params(key=\"-\".join([prefix, \"SAGEMAKER-ROLE-ARN\"]), value=get_execution_role(), overwrite=True)\n",
    "pm.put_params(key=\"-\".join([prefix, \"ACCOUNT-ID\"]), value=strAccountId, overwrite=True)\n",
    "pm.put_params(key=\"-\".join([prefix, \"IMAGE-URI\"]), value=strEcrRepositoryUri, overwrite=True)\n",
    "pm.put_params(key=\"-\".join([prefix, \"INF-IMAGE-URI\"]), value=strInfEcrRepositoryUri, overwrite=True)\n",
    "pm.put_params(key=\"-\".join([prefix, \"S3-DATA-PATH\"]), value=f\"s3://{bucket_name}/{prefix}/data\", overwrite=True)\n",
    "pm.put_params(key=\"-\".join([prefix, \"CODE_REPO\"]), value=codecommit_repo.replace('https://',''), overwrite=True)  ## https:// 있을 경우 입력 못함\n",
    "pm.put_params(key=\"-\".join([prefix, \"CODECOMMIT-USERNAME\"]), value=ServiceUserName, overwrite=True, enc=True)\n",
    "pm.put_params(key=\"-\".join([prefix, \"CODECOMMIT-PWD\"]), value=ServicePassword, overwrite=True, enc=True)\n",
    "pm.put_params(key=\"-\".join([prefix, \"PRETRAINED-WEIGHT\"]), value=pretrained_s3uri, overwrite=True)\n",
    "pm.put_params(key=\"-\".join([prefix, \"RETRAIN\"]), value=False, overwrite=True)"
   ]
  },
  {
   "cell_type": "code",
   "execution_count": null,
   "id": "7b3f10d7-7a58-4249-a160-076e4bb19bdc",
   "metadata": {
    "tags": []
   },
   "outputs": [],
   "source": [
    "print (f'PREFIX: {pm.get_params(key=\"PREFIX\")}')\n",
    "print (f'REGION: {pm.get_params(key=\"-\".join([prefix, \"REGION\"]))}')\n",
    "print (f'BUCKET: {pm.get_params(key=\"-\".join([prefix, \"BUCKET\"]))}')\n",
    "print (f'SAGEMAKER-ROLE-ARN: {pm.get_params(key=\"-\".join([prefix, \"SAGEMAKER-ROLE-ARN\"]))}')\n",
    "print (f'ACCOUNT-ID: {pm.get_params(key=\"-\".join([prefix, \"ACCOUNT-ID\"]))}')\n",
    "print (f'IMAGE-URI: {pm.get_params(key=\"-\".join([prefix, \"IMAGE-URI\"]))}')\n",
    "print (f'INF-IMAGE-URI: {pm.get_params(key=\"-\".join([prefix, \"INF-IMAGE-URI\"]))}')\n",
    "print (f'S3-DATA-PATH: {pm.get_params(key=\"-\".join([prefix, \"S3-DATA-PATH\"]))}')\n",
    "print (f'CODE_REPO: {pm.get_params(key=\"-\".join([prefix, \"CODE_REPO\"]))}')\n",
    "print (f'CODECOMMIT-USERNAME: {pm.get_params(key=\"-\".join([prefix, \"CODECOMMIT-USERNAME\"]), enc=False)}')\n",
    "print (f'CODECOMMIT-PWD: {pm.get_params(key=\"-\".join([prefix, \"CODECOMMIT-PWD\"]), enc=False)}')\n",
    "print (f'PRETRAINED-WEIGHT: {pm.get_params(key=\"-\".join([prefix, \"PRETRAINED-WEIGHT\"]))}')\n",
    "print (f'RETRAIN: {pm.get_params(key=\"-\".join([prefix, \"RETRAIN\"]))}')"
   ]
  },
  {
   "cell_type": "code",
   "execution_count": null,
   "id": "a8bb59b3-1412-430f-bc75-0f2cea44cd18",
   "metadata": {},
   "outputs": [],
   "source": []
  }
 ],
 "metadata": {
  "instance_type": "ml.t3.medium",
  "kernelspec": {
   "display_name": "conda_pytorch_p39",
   "language": "python",
   "name": "conda_pytorch_p39"
  },
  "language_info": {
   "codemirror_mode": {
    "name": "ipython",
    "version": 3
   },
   "file_extension": ".py",
   "mimetype": "text/x-python",
   "name": "python",
   "nbconvert_exporter": "python",
   "pygments_lexer": "ipython3",
   "version": "3.9.15"
  },
  "vscode": {
   "interpreter": {
    "hash": "1f4a227f2552de404565d6626d9115986c409361ad6ef0bf195ad88ccd012b73"
   }
  }
 },
 "nbformat": 4,
 "nbformat_minor": 5
}
