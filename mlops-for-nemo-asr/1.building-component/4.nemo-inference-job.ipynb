{
 "cells": [
  {
   "cell_type": "markdown",
   "id": "9f0916d5",
   "metadata": {},
   "source": [
    "# <B> Model Deployment </B>\n",
    "* Container: codna_pytorch_py39"
   ]
  },
  {
   "cell_type": "markdown",
   "id": "95f12c06",
   "metadata": {},
   "source": [
    "## AutoReload"
   ]
  },
  {
   "cell_type": "code",
   "execution_count": null,
   "id": "87188bfb",
   "metadata": {
    "tags": []
   },
   "outputs": [],
   "source": [
    "%load_ext autoreload\n",
    "%autoreload 2"
   ]
  },
  {
   "cell_type": "markdown",
   "id": "122ce182",
   "metadata": {},
   "source": [
    "## 1. parameter store 설정"
   ]
  },
  {
   "cell_type": "code",
   "execution_count": null,
   "id": "67e463c3",
   "metadata": {
    "tags": []
   },
   "outputs": [],
   "source": [
    "import boto3\n",
    "from utils.ssm import parameter_store"
   ]
  },
  {
   "cell_type": "code",
   "execution_count": null,
   "id": "615db888",
   "metadata": {
    "tags": []
   },
   "outputs": [],
   "source": [
    "strRegionName=boto3.Session().region_name\n",
    "pm = parameter_store(strRegionName)\n",
    "prefix = pm.get_params(key=\"PREFIX\")"
   ]
  },
  {
   "cell_type": "markdown",
   "id": "40253673",
   "metadata": {},
   "source": [
    "## 2.package import for model deployment"
   ]
  },
  {
   "cell_type": "code",
   "execution_count": null,
   "id": "f69d0ea4",
   "metadata": {
    "tags": []
   },
   "outputs": [],
   "source": [
    "import os\n",
    "import sagemaker\n",
    "from sagemaker.pytorch.model import PyTorchModel"
   ]
  },
  {
   "cell_type": "code",
   "execution_count": null,
   "id": "a494fa65",
   "metadata": {
    "tags": []
   },
   "outputs": [],
   "source": [
    "from time import strftime\n",
    "from smexperiments.trial import Trial\n",
    "from smexperiments.experiment import Experiment"
   ]
  },
  {
   "cell_type": "code",
   "execution_count": null,
   "id": "7caa5ba2",
   "metadata": {
    "tags": []
   },
   "outputs": [],
   "source": [
    "def create_experiment(experiment_name):\n",
    "    try:\n",
    "        sm_experiment = Experiment.load(experiment_name)\n",
    "    except:\n",
    "        sm_experiment = Experiment.create(experiment_name=experiment_name)"
   ]
  },
  {
   "cell_type": "code",
   "execution_count": null,
   "id": "875fd63c",
   "metadata": {
    "tags": []
   },
   "outputs": [],
   "source": [
    "def create_trial(experiment_name):\n",
    "    create_date = strftime(\"%m%d-%H%M%s\")\n",
    "    sm_trial = Trial.create(trial_name=f'{experiment_name}-{create_date}',\n",
    "                            experiment_name=experiment_name)\n",
    "\n",
    "    job_name = f'{sm_trial.trial_name}'\n",
    "    return job_name"
   ]
  },
  {
   "cell_type": "code",
   "execution_count": null,
   "id": "e416e7e3",
   "metadata": {
    "tags": []
   },
   "outputs": [],
   "source": [
    "local_mode = True\n",
    "\n",
    "if local_mode: \n",
    "    inference_instance_type = 'local_gpu'\n",
    "    \n",
    "    import os\n",
    "    from sagemaker.local import LocalSession\n",
    "    \n",
    "    sagemaker_session = LocalSession()\n",
    "    sagemaker_session.config = {'local': {'local_code': True}}\n",
    "    \n",
    "else:\n",
    "    inference_instance_type = \"ml.g4dn.xlarge\"\n",
    "    sagemaker_session = sagemaker.Session()\n",
    "    \n",
    "\n",
    "\n",
    "sagemaker_role_arn = pm.get_params(key=prefix + '-SAGEMAKER-ROLE-ARN')    \n",
    "bucket_name = pm.get_params(key=prefix + '-BUCKET')\n",
    "model_artifact_s3_uri = pm.get_params(key=prefix + '-MODEL-PATH')\n",
    "inf_image_uri = pm.get_params(key=''.join([prefix, '-INF-IMAGE-URI']))\n",
    "\n",
    "code_location= os.path.join(\n",
    "    \"s3://{}\".format(bucket_name),\n",
    "    prefix,\n",
    "    \"inference\",\n",
    "    \"backup_codes\"\n",
    ")\n",
    "\n",
    "monitor_output= os.path.join(\n",
    "    \"s3://{}\".format(bucket_name),\n",
    "    prefix,\n",
    "    \"inference\",\n",
    "    \"monitor_output\"\n",
    ")\n",
    "\n",
    "print (f\"sagemaker_role_arn: {sagemaker_role_arn}\")\n",
    "print (f\"model_artifact_s3_uri: {model_artifact_s3_uri}\")\n",
    "print (f\"inf_image_uri: {inf_image_uri}\")\n",
    "print (f\"code_location: {code_location}\")\n",
    "print (f\"monitor_output: {monitor_output}\")"
   ]
  },
  {
   "cell_type": "markdown",
   "id": "4f5ef566",
   "metadata": {},
   "source": [
    "* Define inference job"
   ]
  },
  {
   "cell_type": "code",
   "execution_count": null,
   "id": "36a23bac",
   "metadata": {
    "tags": []
   },
   "outputs": [],
   "source": [
    "model = PyTorchModel(\n",
    "    entry_point='predictor.py',\n",
    "    source_dir=os.getcwd() + '/code',\n",
    "    code_location=code_location,\n",
    "    model_data=model_artifact_s3_uri,\n",
    "    role=sagemaker_role_arn,\n",
    "    image_uri=inf_image_uri,\n",
    "    # framework_version=\"1.13.1\",\n",
    "    # py_version=\"py39\",\n",
    "    sagemaker_session=sagemaker_session\n",
    ")"
   ]
  },
  {
   "cell_type": "code",
   "execution_count": null,
   "id": "6b981409",
   "metadata": {
    "tags": []
   },
   "outputs": [],
   "source": [
    "if local_mode: \n",
    "    data_capture_config = None\n",
    "else:\n",
    "    from sagemaker.model_monitor import DataCaptureConfig\n",
    "\n",
    "    data_capture_config = DataCaptureConfig(\n",
    "        enable_capture=True,\n",
    "        sampling_percentage=100,\n",
    "        destination_s3_uri=monitor_output\n",
    "    )"
   ]
  },
  {
   "cell_type": "code",
   "execution_count": null,
   "id": "7ae28e0c",
   "metadata": {
    "tags": []
   },
   "outputs": [],
   "source": [
    "experiment_name = pm.get_params(key=prefix + \"-EXPERI-NAME\")\n",
    "create_experiment(experiment_name)\n",
    "job_name = create_trial(experiment_name)\n",
    "\n",
    "\n",
    "predictor = model.deploy(\n",
    "    initial_instance_count=1,\n",
    "    instance_type=inference_instance_type,\n",
    "    data_capture_config=data_capture_config,\n",
    "    endpoint_name=job_name,\n",
    "    experiment_config={\n",
    "      'TrialName': job_name,\n",
    "      'TrialComponentDisplayName': job_name,\n",
    "    }\n",
    ")"
   ]
  },
  {
   "cell_type": "code",
   "execution_count": null,
   "id": "10b2bb45",
   "metadata": {
    "tags": []
   },
   "outputs": [],
   "source": [
    "paths2audio_files = f\"{os.getcwd()}/data/preprocessing/an4/wav/an4test_clstk/fcaw/an406-fcaw-b.wav\"\n",
    "paths2audio_files"
   ]
  },
  {
   "cell_type": "code",
   "execution_count": null,
   "id": "ecc9c485",
   "metadata": {
    "tags": []
   },
   "outputs": [],
   "source": [
    "import librosa\n",
    "import IPython.display as ipd\n",
    "\n",
    "# Load and listen to the audio file\n",
    "audio, sample_rate = librosa.load(paths2audio_files)\n",
    "\n",
    "ipd.Audio(paths2audio_files, rate=sample_rate)"
   ]
  },
  {
   "cell_type": "code",
   "execution_count": null,
   "id": "d9e00117-a789-46ba-8d57-78af35c6a485",
   "metadata": {
    "tags": []
   },
   "outputs": [],
   "source": [
    "from sagemaker.predictor import Predictor"
   ]
  },
  {
   "cell_type": "code",
   "execution_count": null,
   "id": "97eb42b8-fb51-4f99-bfeb-1017ca99b7c4",
   "metadata": {
    "tags": []
   },
   "outputs": [],
   "source": [
    "# predictor = Predictor('nemo-cyj-nemo-experiments-0322-10501679482211')"
   ]
  },
  {
   "cell_type": "code",
   "execution_count": null,
   "id": "000a6dd0",
   "metadata": {
    "tags": []
   },
   "outputs": [],
   "source": [
    "from sagemaker.serializers import DataSerializer\n",
    "predictor.serializer = DataSerializer()"
   ]
  },
  {
   "cell_type": "code",
   "execution_count": null,
   "id": "ef0b6896",
   "metadata": {
    "tags": []
   },
   "outputs": [],
   "source": [
    "predictor.predict(paths2audio_files)"
   ]
  },
  {
   "cell_type": "code",
   "execution_count": null,
   "id": "fae1aa6b",
   "metadata": {
    "tags": []
   },
   "outputs": [],
   "source": [
    "pm.put_params(key=\"ENDPOINT-NAME\", value=job_name, overwrite=True)\n",
    "pm.put_params(key=\"MONITOR-OUTPUT\", value=monitor_output, overwrite=True)"
   ]
  },
  {
   "cell_type": "code",
   "execution_count": null,
   "id": "03fe5507-3551-417d-9b1e-0ca6a17a6521",
   "metadata": {
    "tags": []
   },
   "outputs": [],
   "source": [
    "print (f'ENDPOINT-NAME: {pm.get_params(key=\"ENDPOINT-NAME\")}')\n",
    "print (f'MONITOR-OUTPUT: {pm.get_params(key=\"MONITOR-OUTPUT\")}')"
   ]
  },
  {
   "cell_type": "code",
   "execution_count": null,
   "id": "7395fdee-1785-461f-ae82-5931b8eb4e2b",
   "metadata": {
    "tags": []
   },
   "outputs": [],
   "source": [
    "# predictor.delete_endpoint()"
   ]
  }
 ],
 "metadata": {
  "instance_type": "ml.t3.medium",
  "kernelspec": {
   "display_name": "conda_pytorch_p39",
   "language": "python",
   "name": "conda_pytorch_p39"
  },
  "language_info": {
   "codemirror_mode": {
    "name": "ipython",
    "version": 3
   },
   "file_extension": ".py",
   "mimetype": "text/x-python",
   "name": "python",
   "nbconvert_exporter": "python",
   "pygments_lexer": "ipython3",
   "version": "3.9.15"
  }
 },
 "nbformat": 4,
 "nbformat_minor": 5
}
