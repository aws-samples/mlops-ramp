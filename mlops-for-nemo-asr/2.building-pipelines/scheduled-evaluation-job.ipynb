{
 "cells": [
  {
   "cell_type": "markdown",
   "id": "cb60aea8-54a9-4cf8-9cff-5f9b2043036b",
   "metadata": {},
   "source": [
    "# <B> Evaluation </B>\n",
    "* Container: codna_pytorch_py39"
   ]
  },
  {
   "cell_type": "markdown",
   "id": "4a8e8660-8e76-4a99-8d41-3a408ef1056a",
   "metadata": {},
   "source": [
    "## -1. 가상의 GT 작업 수행"
   ]
  },
  {
   "cell_type": "code",
   "execution_count": null,
   "id": "682bfa96-c977-4dac-bfce-c61829dc521e",
   "metadata": {},
   "outputs": [],
   "source": [
    "import pathlib\n",
    "import pickle\n",
    "\n",
    "gt_list = [\n",
    "    'rubout n   she yn', \n",
    "    'rubout n   she yn',\n",
    "    'rubout n   she yn',\n",
    "    'rubout n   she yn',\n",
    "    'rubout n   she yn',\n",
    "    'rubout n   she yn',\n",
    "    'rubout n   she yn',\n",
    "    'rubout n   she yn'\n",
    "]\n",
    "\n",
    "\n",
    "pathlib.Path(\"manifest\").mkdir(parents=True, exist_ok=True)\n",
    "with open('manifest/gt_manifest.pkl', 'wb') as f:\n",
    "    pickle.dump(gt_list, f, protocol=pickle.HIGHEST_PROTOCOL)\n",
    "\n"
   ]
  },
  {
   "cell_type": "markdown",
   "id": "6dc511d5-62aa-404b-9fbd-0f1a59446926",
   "metadata": {},
   "source": [
    "## 0. Package import "
   ]
  },
  {
   "cell_type": "code",
   "execution_count": null,
   "id": "0ba446e0-448f-4e07-9d5a-225c16bde8cb",
   "metadata": {
    "tags": []
   },
   "outputs": [],
   "source": [
    "import boto3"
   ]
  },
  {
   "cell_type": "markdown",
   "id": "84ecd6e6-2939-4712-b342-136d077100a9",
   "metadata": {},
   "source": [
    "## 1. parameter store 설정"
   ]
  },
  {
   "cell_type": "code",
   "execution_count": null,
   "id": "86f1fe37-21d1-4827-92d6-f0c5898ff7f4",
   "metadata": {
    "tags": []
   },
   "outputs": [],
   "source": [
    "import os\n",
    "import boto3\n",
    "\n",
    "class parameter_store():\n",
    "    \n",
    "    def __init__(self, region_name=\"ap-northeast-2\"):\n",
    "        \n",
    "        self.ssm = boto3.client('ssm', region_name=region_name)\n",
    "        \n",
    "    def put_params(self, key, value, dtype=\"String\", overwrite=False, enc=False) -> str:\n",
    "        \n",
    "        #aws ssm put-parameter --name \"RDS-MASTER-PASSWORD\" --value 'PASSWORD' --type \"SecureString\"\n",
    "        if enc: dtype=\"SecureString\"\n",
    "        if overwrite:\n",
    "            strQuery = ''.join(['aws ssm put-parameter', ' --name ', '\"', str(key), '\"', ' --value ', '\"', str(value), '\"', ' --type ', '\"', str(dtype), '\"', ' --overwrite'])\n",
    "        strResponse = os.popen(strQuery).read()\n",
    "        \n",
    "        if strResponse != '': return 'Store suceess'\n",
    "        else: return 'Error'\n",
    "    \n",
    "    def get_params(self, key, enc=False):\n",
    "        \n",
    "        if enc: WithDecryption = True\n",
    "        else: WithDecryption = False\n",
    "        response = self.ssm.get_parameters(\n",
    "            Names=[key,],\n",
    "            WithDecryption=WithDecryption\n",
    "        )\n",
    "        \n",
    "        return response['Parameters'][0]['Value']\n",
    "\n",
    "    def get_all_params(self, ):\n",
    "\n",
    "        response = self.ssm.describe_parameters(MaxResults=50)\n",
    "\n",
    "        return [dicParam[\"Name\"] for dicParam in response[\"Parameters\"]]\n",
    "\n",
    "    def delete_param(self, listParams):\n",
    "\n",
    "        response = self.ssm.delete_parameters(\n",
    "            Names=listParams\n",
    "        )\n",
    "        print (f\"  parameters: {listParams} is deleted successfully\")"
   ]
  },
  {
   "cell_type": "code",
   "execution_count": null,
   "id": "22a09c09-735c-416e-b229-2d0a84bd458a",
   "metadata": {
    "tags": []
   },
   "outputs": [],
   "source": [
    "strRegionName=boto3.Session().region_name\n",
    "pm = parameter_store(strRegionName)\n",
    "prefix = pm.get_params(key=\"PREFIX\")"
   ]
  },
  {
   "cell_type": "markdown",
   "id": "82fcf66a-7690-4ee7-bc5c-ecab6d254e84",
   "metadata": {},
   "source": [
    "## 2.Processing-job for evaluation"
   ]
  },
  {
   "cell_type": "code",
   "execution_count": null,
   "id": "31244e49-1ef6-44b0-aa9a-8c279e3e9093",
   "metadata": {
    "tags": []
   },
   "outputs": [],
   "source": [
    "import os\n",
    "import sagemaker\n",
    "from sagemaker.pytorch.estimator import PyTorch\n",
    "from sagemaker.workflow.execution_variables import ExecutionVariables\n",
    "from sagemaker.processing import ProcessingInput, ProcessingOutput, FrameworkProcessor"
   ]
  },
  {
   "cell_type": "markdown",
   "id": "ca29aeed-2e97-46eb-9b8f-9a6d7e705057",
   "metadata": {
    "tags": []
   },
   "source": [
    "* **Set Up SageMaker Experiment**\n",
    "    - Create or load [SageMaker Experiment](https://docs.aws.amazon.com/sagemaker/latest/dg/experiments.html) for the example training job. This will create an experiment trial object in SageMaker."
   ]
  },
  {
   "cell_type": "markdown",
   "id": "fef44376-e6ac-43c2-b9e4-e18adb65a2ec",
   "metadata": {},
   "source": [
    "* params for processing job"
   ]
  },
  {
   "cell_type": "code",
   "execution_count": null,
   "id": "acfa761c-b537-4a16-ae83-a1792e3b81a6",
   "metadata": {
    "tags": []
   },
   "outputs": [],
   "source": [
    "!pip install sagemaker-experiments"
   ]
  },
  {
   "cell_type": "code",
   "execution_count": null,
   "id": "addb70d1-0a55-4f86-ae53-9beec538f023",
   "metadata": {
    "tags": []
   },
   "outputs": [],
   "source": [
    "from time import strftime\n",
    "from smexperiments.trial import Trial\n",
    "from smexperiments.experiment import Experiment"
   ]
  },
  {
   "cell_type": "code",
   "execution_count": null,
   "id": "58fff36e-b3aa-4684-a67a-fde9ae3b11ad",
   "metadata": {
    "tags": []
   },
   "outputs": [],
   "source": [
    "def create_experiment(experiment_name):\n",
    "    try:\n",
    "        sm_experiment = Experiment.load(experiment_name)\n",
    "    except:\n",
    "        sm_experiment = Experiment.create(experiment_name=experiment_name)"
   ]
  },
  {
   "cell_type": "code",
   "execution_count": null,
   "id": "5c43996d-e5f7-4fbd-992b-36f732f18e4f",
   "metadata": {
    "tags": []
   },
   "outputs": [],
   "source": [
    "def create_trial(experiment_name):\n",
    "    create_date = strftime(\"%m%d-%H%M%s\")\n",
    "    sm_trial = Trial.create(trial_name=f'{experiment_name}-{create_date}',\n",
    "                            experiment_name=experiment_name)\n",
    "\n",
    "    job_name = f'{sm_trial.trial_name}'\n",
    "    return job_name"
   ]
  },
  {
   "cell_type": "code",
   "execution_count": null,
   "id": "f2a642c2-470a-41c2-91b6-f25460da4273",
   "metadata": {
    "tags": []
   },
   "outputs": [],
   "source": [
    "select_date = '2023/03/21'\n",
    "variant_name = 'AllTraffic'\n"
   ]
  },
  {
   "cell_type": "code",
   "execution_count": null,
   "id": "4e5789a5-57b6-4a7e-81bc-188e23c28b06",
   "metadata": {
    "tags": []
   },
   "outputs": [],
   "source": [
    "local_mode = False\n",
    "\n",
    "if local_mode: \n",
    "    instance_type = 'local_gpu'\n",
    "    \n",
    "    import os\n",
    "    from sagemaker.local import LocalSession\n",
    "    \n",
    "    sagemaker_session = LocalSession()\n",
    "    sagemaker_session.config = {'local': {'local_code': True}}\n",
    "    \n",
    "else:\n",
    "    instance_type = \"ml.g4dn.xlarge\"\n",
    "    sagemaker_session = sagemaker.Session()\n",
    "\n",
    "\n",
    "sagemaker_role_arn = pm.get_params(key=prefix + '-SAGEMAKER-ROLE-ARN')\n",
    "preprocessing_data_path = pm.get_params(key=prefix + '-PREP-DATA-PATH')\n",
    "bucket_name = pm.get_params(key=prefix + '-BUCKET')\n",
    "eval_image_uri = pm.get_params(key=''.join([prefix, '-IMAGE-URI']))\n",
    "model_artifact_s3_uri = pm.get_params(key=prefix + '-MODEL-PATH')\n",
    "test_manifest_s3_path = os.path.join(preprocessing_data_path, \"an4\", \"test_manifest.json\")\n",
    "wav_s3_uri = os.path.join(preprocessing_data_path, \"an4\", \"wav\")\n",
    "eval_output_s3_uri = os.path.join(\"s3://\", bucket_name, \"evaluation\", \"output\", \"eval_output\")\n",
    "endpoint_name = pm.get_params(key='ENDPOINT-NAME')\n",
    "monitor_output = pm.get_params(key='MONITOR-OUTPUT')\n",
    "\n",
    "code_location= os.path.join(\n",
    "    \"s3://{}\".format(bucket_name),\n",
    "    prefix,\n",
    "    \"evaluation\",\n",
    "    \"backup_codes\"\n",
    ")\n",
    "\n",
    "#s3://sagemaker-us-west-2-322537213286/nemo-prod/inference/monitor_output\n",
    "#s3://sagemaker-us-west-2-322537213286/nemo-prod/inference/monitor_output/nemo-prod-nemo-experiments-0320-07331679297605/AllTraffic/2023/03/20/07/\n",
    "\n",
    "inference_output_s3uri = os.path.join(\n",
    "    monitor_output,\n",
    "    endpoint_name,\n",
    "    variant_name,\n",
    "    select_date\n",
    ")\n",
    "\n",
    "gtmanifest_s3uri = os.path.join(\n",
    "    \"s3://{}\".format(bucket_name),\n",
    "    prefix,\n",
    "    \"gt-manifest\"\n",
    ")\n",
    "\n",
    "output_s3uri = os.path.join(\n",
    "    \"s3://{}\".format(bucket_name),\n",
    "    prefix,\n",
    "    \"pred-output\"\n",
    ")\n",
    "\n",
    "## Retraining\n",
    "pm.put_params(key=\"-\".join([prefix, \"RETRAIN\"]), value=True, overwrite=True)\n",
    "\n",
    "\n",
    "print (f\"instance-type: {instance_type}\")\n",
    "print (f\"image-uri: {eval_image_uri}\")\n",
    "print (f\"role: {sagemaker_role_arn}\")\n",
    "print (f\"bucket: {bucket_name}\")\n",
    "\n",
    "print (f\"model_artifact_s3_uri: {model_artifact_s3_uri}\")\n",
    "print (f\"test_manifest_s3_path: {test_manifest_s3_path}\")\n",
    "print (f\"wav_s3_uri: {wav_s3_uri}\")\n",
    "print (f\"eval_output_s3_uri: {eval_output_s3_uri}\")\n",
    "print (f\"endpoint_name: {endpoint_name}\")\n",
    "print (f\"monitor_output: {monitor_output}\")\n",
    "print (f\"sagemaker_session: {sagemaker_session}\")"
   ]
  },
  {
   "cell_type": "code",
   "execution_count": null,
   "id": "b69cca78-ae0c-46cf-9bae-9f62ec408e43",
   "metadata": {},
   "outputs": [],
   "source": [
    "!aws s3 sync ./manifest $gtmanifest_s3uri"
   ]
  },
  {
   "cell_type": "markdown",
   "id": "5b1d1a28-03f1-4f00-ad79-5786b15b0d46",
   "metadata": {},
   "source": [
    "* Define processing job"
   ]
  },
  {
   "cell_type": "code",
   "execution_count": null,
   "id": "f81731ba-391a-411e-b30b-56b3d4cabf61",
   "metadata": {
    "tags": []
   },
   "outputs": [],
   "source": [
    "pred_processor = FrameworkProcessor(\n",
    "    estimator_cls=PyTorch,\n",
    "    framework_version=\"1.13.1\",\n",
    "    role=sagemaker_role_arn, \n",
    "    image_uri=eval_image_uri,\n",
    "    instance_count=1,\n",
    "    instance_type=instance_type,\n",
    "    code_location=code_location,\n",
    "    env={\n",
    "        'select_date': select_date, \n",
    "        'tolerance' : \"0.5\",\n",
    "        'region' : strRegionName\n",
    "        }\n",
    "    )"
   ]
  },
  {
   "cell_type": "code",
   "execution_count": null,
   "id": "86555179-9625-4963-a4a7-c89ab142e7dd",
   "metadata": {},
   "outputs": [],
   "source": [
    "repo = pm.get_params(key=\"-\".join([prefix, \"CODE_REPO\"]))\n",
    "username = pm.get_params(key=\"-\".join([prefix, \"CODECOMMIT-USERNAME\"]), enc=True)\n",
    "password = pm.get_params(key=\"-\".join([prefix, \"CODECOMMIT-PWD\"]), enc=True)\n",
    "\n",
    "print (f'CODE_REPO: {repo}')\n",
    "print (f'CODECOMMIT-USERNAME: {username}')\n",
    "print (f'CODECOMMIT-PWD: {password}')"
   ]
  },
  {
   "cell_type": "code",
   "execution_count": null,
   "id": "29eed81a-7cbf-482b-b7b0-bb10ba51fd25",
   "metadata": {},
   "outputs": [],
   "source": [
    "git_config = {'repo': f\"https://{repo}\",\n",
    "              'branch': 'main',\n",
    "              'username': username,\n",
    "              'password': password}"
   ]
  },
  {
   "cell_type": "code",
   "execution_count": null,
   "id": "968a6219-ef23-454d-ba19-0878077bdec3",
   "metadata": {
    "tags": []
   },
   "outputs": [],
   "source": [
    "experiment_name = pm.get_params(key=prefix + \"-EXPERI-NAME\")\n",
    "create_experiment(experiment_name)\n",
    "job_name = create_trial(experiment_name)\n",
    "\n",
    "pred_processor.run(\n",
    "    git_config=git_config,\n",
    "    code=\"evaluate.py\",\n",
    "    source_dir=\"code\",\n",
    "    inputs=[\n",
    "        ProcessingInput(\n",
    "            source=inference_output_s3uri, \n",
    "            input_name=\"inference_data\", \n",
    "            destination=\"/opt/ml/processing/input/inference_data\"\n",
    "        ),\n",
    "        ProcessingInput(\n",
    "            source=gtmanifest_s3uri, \n",
    "            input_name=\"gt_manifest\", \n",
    "            destination=\"/opt/ml/processing/input/manifest\"),\n",
    "    ],\n",
    "    outputs=[\n",
    "        ProcessingOutput(\n",
    "            source=f\"/opt/ml/processing/output/{select_date}/manifest\", \n",
    "            destination=output_s3uri + '/manifest'\n",
    "        ),\n",
    "        ProcessingOutput(\n",
    "            source=f\"/opt/ml/processing/output/{select_date}/wav\", \n",
    "            destination=output_s3uri + '/wav'\n",
    "        ),\n",
    "    ],\n",
    "    job_name=job_name,\n",
    "    experiment_config={\n",
    "      'TrialName': job_name,\n",
    "      'TrialComponentDisplayName': job_name,\n",
    "    },\n",
    "    wait=True\n",
    ")"
   ]
  },
  {
   "cell_type": "code",
   "execution_count": null,
   "id": "7dc3a5bc-4850-49ac-a51e-bb47b3c746b7",
   "metadata": {},
   "outputs": [],
   "source": []
  }
 ],
 "metadata": {
  "instance_type": "ml.t3.medium",
  "kernelspec": {
   "display_name": "Python 3 (Data Science)",
   "language": "python",
   "name": "python3__SAGEMAKER_INTERNAL__arn:aws:sagemaker:us-west-2:236514542706:image/datascience-1.0"
  },
  "language_info": {
   "codemirror_mode": {
    "name": "ipython",
    "version": 3
   },
   "file_extension": ".py",
   "mimetype": "text/x-python",
   "name": "python",
   "nbconvert_exporter": "python",
   "pygments_lexer": "ipython3",
   "version": "3.7.10"
  }
 },
 "nbformat": 4,
 "nbformat_minor": 5
}
